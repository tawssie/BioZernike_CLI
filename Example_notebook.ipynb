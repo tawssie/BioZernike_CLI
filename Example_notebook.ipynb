{
  "nbformat": 4,
  "nbformat_minor": 0,
  "metadata": {
    "colab": {
      "provenance": []
    },
    "kernelspec": {
      "name": "python3",
      "display_name": "Python 3"
    },
    "language_info": {
      "name": "python"
    }
  },
  "cells": [
    {
      "cell_type": "code",
      "source": [
        "# Download pre-built jar, example data and a bash script from GitHub using curl\n",
        "\n",
        "! curl -OJL https://github.com/tawssie/BioZernike_CLI/raw/main/1hhs_A.pdb\n",
        "! curl -OJL https://github.com/tawssie/BioZernike_CLI/raw/main/biozernike.jar\n",
        "! curl -OJL https://github.com/tawssie/BioZernike_CLI/raw/main/biozernike_test_time.sh\n",
        "! curl -OJL https://github.com/tawssie/BioZernike_CLI/raw/main/descriptor.properties\n",
        "\n",
        "# Make the bash script executable\n",
        "! chmod +x biozernike_test_time.sh\n"
      ],
      "metadata": {
        "colab": {
          "base_uri": "https://localhost:8080/"
        },
        "id": "xnvs7HWMRasy",
        "outputId": "1328916b-3d8a-410d-c172-590f790155d7"
      },
      "execution_count": 11,
      "outputs": [
        {
          "output_type": "stream",
          "name": "stdout",
          "text": [
            "  % Total    % Received % Xferd  Average Speed   Time    Time     Time  Current\n",
            "                                 Dload  Upload   Total   Spent    Left  Speed\n",
            "  0     0    0     0    0     0      0      0 --:--:-- --:--:-- --:--:--     0\n",
            "100  416k  100  416k    0     0  1265k      0 --:--:-- --:--:-- --:--:-- 1265k\n",
            "  % Total    % Received % Xferd  Average Speed   Time    Time     Time  Current\n",
            "                                 Dload  Upload   Total   Spent    Left  Speed\n",
            "  0     0    0     0    0     0      0      0 --:--:-- --:--:-- --:--:--     0\n",
            "100 16.9M  100 16.9M    0     0  27.4M      0 --:--:-- --:--:-- --:--:--  134M\n",
            "  % Total    % Received % Xferd  Average Speed   Time    Time     Time  Current\n",
            "                                 Dload  Upload   Total   Spent    Left  Speed\n",
            "  0     0    0     0    0     0      0      0 --:--:-- --:--:-- --:--:--     0\n",
            "100   447  100   447    0     0   1668      0 --:--:-- --:--:-- --:--:--  1668\n",
            "  % Total    % Received % Xferd  Average Speed   Time    Time     Time  Current\n",
            "                                 Dload  Upload   Total   Spent    Left  Speed\n",
            "  0     0    0     0    0     0      0      0 --:--:-- --:--:-- --:--:--     0\n",
            "100  1291  100  1291    0     0   4919      0 --:--:-- --:--:-- --:--:--  4919\n"
          ]
        }
      ]
    },
    {
      "cell_type": "code",
      "source": [
        "# Calculate 3D Zernike moments with a grid width of 1.0, by jar CLI.\n",
        "\n",
        "! java -jar biozernike.jar 1hhs_A.pdb 1.0\n"
      ],
      "metadata": {
        "colab": {
          "base_uri": "https://localhost:8080/"
        },
        "id": "PoTKeN0USThU",
        "outputId": "5079afb8-cb9c-40a4-f37d-3ca370246bbc"
      },
      "execution_count": 17,
      "outputs": [
        {
          "output_type": "stream",
          "name": "stdout",
          "text": [
            "WARNING: sun.reflect.Reflection.getCallerClass is not supported. This will impact performance.\n",
            "05:38:51 [main] WARN  org.biojava.nbio.structure.align.util.UserConfiguration - Could not read dir from system property PDB_DIR or environment variable PDB_DIR, using system's temp directory /tmp\n",
            "Calculate the normalized Zernike moment at a maximum order of 20.\n",
            "123.79557448517191\n",
            "1.871460366619666E-13\n",
            "137.85873844928378\n",
            "23.029398688629808\n",
            "6.737220474328917\n",
            "19.61312122949182\n",
            "23.407649280125877\n",
            "41.768712676861234\n",
            "8.236105047993938\n",
            "12.896127035728519\n",
            "43.63170341485593\n",
            "6.061548950206424\n",
            "47.1598211847678\n",
            "20.679156410924023\n",
            "23.051630006476053\n",
            "4.793432777564157\n",
            "8.325681730540227\n",
            "34.593606391158424\n",
            "15.682752948234297\n",
            "5.035177404410597\n",
            "28.588598197982005\n",
            "18.392425149971693\n",
            "26.165389731490134\n",
            "13.9075285662574\n",
            "3.358206784926366\n",
            "4.512878407403596\n",
            "16.431680582385926\n",
            "15.34680128094513\n",
            "15.195907279834966\n",
            "2.8099651999411503\n",
            "0.21584953565650267\n",
            "20.78917936605793\n",
            "19.15973835357833\n",
            "15.985434297472935\n",
            "10.994759050424173\n",
            "2.403439716745524\n",
            "3.3551208512335764\n",
            "11.572267791691887\n",
            "17.968303743841368\n",
            "16.890591858980613\n",
            "10.639600276555447\n",
            "1.5022922086957742\n",
            "2.009445584277841\n",
            "9.96114275131225\n",
            "19.475343467302924\n",
            "13.424490463287933\n",
            "14.153460162794705\n",
            "9.745811589631947\n",
            "1.0693158099290627\n",
            "7.815088661126989\n",
            "17.348982829745253\n",
            "18.93575466649253\n",
            "15.37951054970957\n",
            "17.424666770328844\n",
            "6.872162574060035\n",
            "1.0193844419761768\n",
            "1.4992810068100884\n",
            "7.4844997464798375\n",
            "14.860253439813993\n",
            "15.338354559049339\n",
            "11.922038642420375\n",
            "16.5166778658788\n",
            "4.744907514807175\n",
            "0.8946461595895819\n",
            "5.089951834919096\n",
            "16.64588821814694\n",
            "10.24205197486165\n",
            "19.32482057104187\n",
            "18.811180385628507\n",
            "13.950729662813725\n",
            "4.823358452318117\n",
            "0.6323550128816396\n",
            "0.6073283912370548\n",
            "7.608550753391954\n",
            "11.769522840117249\n",
            "12.372997315656356\n",
            "11.58800560506088\n",
            "17.79030541075628\n",
            "9.538346034188653\n",
            "4.419508109262092\n",
            "0.5991415751923155\n",
            "4.327355860233808\n",
            "9.868984228263585\n",
            "15.056678623187146\n",
            "15.963559704590617\n",
            "18.06398450391624\n",
            "16.980002904492423\n",
            "10.504570270508854\n",
            "3.171741745001015\n",
            "0.4674994247591918\n",
            "0.14469275930220177\n",
            "10.032136603252944\n",
            "14.468863319538457\n",
            "11.115137519826058\n",
            "12.941669091323526\n",
            "19.489316741275257\n",
            "13.75495854433581\n",
            "9.701467842998248\n",
            "3.246746871797972\n",
            "0.2914758211921361\n",
            "10.085916169716247\n",
            "14.286582959895101\n",
            "18.030428493053144\n",
            "18.501709079062117\n",
            "17.33384083644723\n",
            "14.962022319633686\n",
            "15.382396626397917\n",
            "7.338846202814241\n",
            "2.632815588365052\n",
            "0.26770376381893324\n",
            "4.691153352339267\n",
            "8.996815830458202\n",
            "11.825157176462929\n",
            "11.530299854160308\n",
            "16.514334525351924\n",
            "17.477606049619627\n",
            "18.26068073702528\n",
            "13.364309492411719\n",
            "7.994945813840804\n",
            "1.6934480645748107\n",
            "0.19130277727110798\n"
          ]
        }
      ]
    },
    {
      "cell_type": "code",
      "source": [
        "# Execute 10,000 loops using a bash script\n",
        "# This requires a significant amount of time.\n",
        "! ./biozernike_test_time.sh"
      ],
      "metadata": {
        "colab": {
          "base_uri": "https://localhost:8080/"
        },
        "id": "w79rsfNiTwJB",
        "outputId": "15ae6146-ae1c-42e7-ffec-7a07169ed3a8"
      },
      "execution_count": 15,
      "outputs": [
        {
          "output_type": "stream",
          "name": "stdout",
          "text": [
            "biozernike_test_time.sh script can only be executed in the bash shell.\n",
            "05:26:56 [main] WARN  org.biojava.nbio.structure.align.util.UserConfiguration - Could not read dir from system property PDB_DIR or environment variable PDB_DIR, using system's temp directory /tmp\n",
            "05:26:59 [main] WARN  org.biojava.nbio.structure.align.util.UserConfiguration - Could not read dir from system property PDB_DIR or environment variable PDB_DIR, using system's temp directory /tmp\n",
            "05:27:02 [main] WARN  org.biojava.nbio.structure.align.util.UserConfiguration - Could not read dir from system property PDB_DIR or environment variable PDB_DIR, using system's temp directory /tmp\n",
            "05:27:05 [main] WARN  org.biojava.nbio.structure.align.util.UserConfiguration - Could not read dir from system property PDB_DIR or environment variable PDB_DIR, using system's temp directory /tmp\n",
            "05:27:08 [main] WARN  org.biojava.nbio.structure.align.util.UserConfiguration - Could not read dir from system property PDB_DIR or environment variable PDB_DIR, using system's temp directory /tmp\n",
            "05:27:10 [main] WARN  org.biojava.nbio.structure.align.util.UserConfiguration - Could not read dir from system property PDB_DIR or environment variable PDB_DIR, using system's temp directory /tmp\n",
            "05:27:14 [main] WARN  org.biojava.nbio.structure.align.util.UserConfiguration - Could not read dir from system property PDB_DIR or environment variable PDB_DIR, using system's temp directory /tmp\n",
            "05:27:17 [main] WARN  org.biojava.nbio.structure.align.util.UserConfiguration - Could not read dir from system property PDB_DIR or environment variable PDB_DIR, using system's temp directory /tmp\n",
            "05:27:20 [main] WARN  org.biojava.nbio.structure.align.util.UserConfiguration - Could not read dir from system property PDB_DIR or environment variable PDB_DIR, using system's temp directory /tmp\n",
            "05:27:22 [main] WARN  org.biojava.nbio.structure.align.util.UserConfiguration - Could not read dir from system property PDB_DIR or environment variable PDB_DIR, using system's temp directory /tmp\n",
            "Total time elapsed: 0 minutes and 28 seconds.\n"
          ]
        }
      ]
    },
    {
      "cell_type": "code",
      "source": [],
      "metadata": {
        "id": "2C8vG_UbQeAw"
      },
      "execution_count": 16,
      "outputs": []
    }
  ]
}